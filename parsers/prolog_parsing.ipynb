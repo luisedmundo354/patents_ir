{
 "cells": [
  {
   "cell_type": "code",
   "execution_count": 51,
   "id": "2938a5dd-1ba3-4277-b8f6-b0eedb36fb77",
   "metadata": {},
   "outputs": [
    {
     "name": "stderr",
     "output_type": "stream",
     "text": [
      "/tmp/ipykernel_29354/3750603609.py:4: DtypeWarning: Columns (0) have mixed types. Specify dtype option on import or set low_memory=False.\n",
      "  df = pd.read_csv('patent_claims_fulltext.csv', encoding='utf-8', encoding_errors='ignore')\n"
     ]
    }
   ],
   "source": [
    "import pandas as pd\n",
    "\n",
    "# Replace 'your_file.tsv' with the actual path to your TSV file\n",
    "df = pd.read_csv('patent_claims_fulltext.csv', encoding='utf-8', encoding_errors='ignore')\n",
    "subset_df = df.head(1000)\n",
    "\n",
    "# Write the selected rows to a new CSV file\n",
    "subset_df.to_csv('claims_subset.csv', index=False)\n"
   ]
  },
  {
   "cell_type": "code",
   "execution_count": 52,
   "id": "ca334d41-bc8b-46f4-97e8-e3a014b9322f",
   "metadata": {},
   "outputs": [
    {
     "name": "stdout",
     "output_type": "stream",
     "text": [
      "      pat_no  claim_no                                          claim_txt  \\\n",
      "0    3930271         1  1. A golf glove comprising at least an index f...   \n",
      "1    3930271         4  4. A golf glove adapted for use on one hand of...   \n",
      "2    3930271         3  3. A glove comprising an index finger receptac...   \n",
      "3    3930271         2  2. A golf glove in accordance with claim 1 whe...   \n",
      "4    3930272         1  1. In combination with a height adjustable cri...   \n",
      "..       ...       ...                                                ...   \n",
      "995  3930386        14  14. A circular knitting machine as claimed in ...   \n",
      "996  3930386        17  17. A circular knitting machine as claimed in ...   \n",
      "997  3930386        13  13. A circular knitting machine as claimed in ...   \n",
      "998  3930386        16  16. A circular knitting machine as claimed in ...   \n",
      "999  3930386         4  4. Plating feeder as claimed in claim 1 wherei...   \n",
      "\n",
      "     dependencies  ind_flg  appl_id  \n",
      "0             NaN        1      NaN  \n",
      "1             NaN        1      NaN  \n",
      "2             NaN        1      NaN  \n",
      "3             1.0        0      NaN  \n",
      "4             NaN        1      NaN  \n",
      "..            ...      ...      ...  \n",
      "995          12.0        0      NaN  \n",
      "996          12.0        0      NaN  \n",
      "997          12.0        0      NaN  \n",
      "998          12.0        0      NaN  \n",
      "999           1.0        0      NaN  \n",
      "\n",
      "[1000 rows x 6 columns]\n"
     ]
    }
   ],
   "source": [
    "df_subset = pd.read_csv('claims_subset.csv')\n",
    "print(df_subset)"
   ]
  },
  {
   "cell_type": "code",
   "execution_count": 53,
   "id": "02f68f7c-e137-4508-8fb9-70491025df9d",
   "metadata": {},
   "outputs": [
    {
     "data": {
      "text/plain": [
       "Index(['pat_no', 'claim_no', 'claim_txt', 'dependencies', 'ind_flg',\n",
       "       'appl_id'],\n",
       "      dtype='object')"
      ]
     },
     "execution_count": 53,
     "metadata": {},
     "output_type": "execute_result"
    }
   ],
   "source": [
    "df_subset.columns"
   ]
  },
  {
   "cell_type": "code",
   "execution_count": 63,
   "id": "86fae357-da00-4ba0-8b37-577df51f37d6",
   "metadata": {},
   "outputs": [
    {
     "name": "stdout",
     "output_type": "stream",
     "text": [
      "0    1. A golf glove comprising at least an index f...\n",
      "1    4. A golf glove adapted for use on one hand of...\n",
      "2    3. A glove comprising an index finger receptac...\n",
      "3    2. A golf glove in accordance with claim 1 whe...\n"
     ]
    }
   ],
   "source": [
    "test_n =df_subset[df_subset['pat_no']==3930271]\n",
    "text_n_content = test_n['claim_txt'].to_string()\n",
    "print(text_n_content)"
   ]
  },
  {
   "cell_type": "code",
   "execution_count": 56,
   "id": "ae730908-b87b-4a9c-86f9-db805d4eb8d5",
   "metadata": {},
   "outputs": [],
   "source": [
    "test_n =df[:5]['claim_txt']\n",
    "one_patent = test_n[0]"
   ]
  },
  {
   "cell_type": "code",
   "execution_count": 64,
   "id": "e6f4b775-caa2-4640-bab9-f47b0609a348",
   "metadata": {},
   "outputs": [
    {
     "data": {
      "text/markdown": [
       "0    1. A golf glove comprising at least an index f...\n",
       "1    4. A golf glove adapted for use on one hand of...\n",
       "2    3. A glove comprising an index finger receptac...\n",
       "3    2. A golf glove in accordance with claim 1 whe..."
      ],
      "text/plain": [
       "<IPython.core.display.Markdown object>"
      ]
     },
     "metadata": {},
     "output_type": "display_data"
    }
   ],
   "source": [
    "import textwrap\n",
    "#print(textwrap.fill(one_patent, 150))\n",
    "from IPython.display import display, Markdown, Latex\n",
    "display(Markdown(text_n_content))"
   ]
  },
  {
   "cell_type": "code",
   "execution_count": 2,
   "id": "889118d6-e30b-4cd8-aaf3-b0525ef4487a",
   "metadata": {},
   "outputs": [],
   "source": [
    "import os\n",
    "from openai import OpenAI\n",
    "\n",
    "# Initialize OpenAI client\n",
    "os.environ[\"OPENAI_API_KEY\"] = \"\"\n",
    "client = openai.OpenAI(api_key=os.getenv(\"OPENAI_API_KEY\"))"
   ]
  },
  {
   "cell_type": "code",
   "execution_count": 21,
   "id": "f1ccd656-0c92-459a-bdf0-e1c5d0e4608a",
   "metadata": {},
   "outputs": [],
   "source": [
    "def gpt4_query(text):\n",
    "    \"\"\"Uses OpenAI's GPT-4 Turbo 8k to process and summarize text.\"\"\"\n",
    "    try:\n",
    "        chat_completion = client.chat.completions.create(\n",
    "            model=\"gpt-4-turbo\",\n",
    "            messages=[{\"role\": \"system\", \"content\": \"You will extract information from patents and summarize text using markdown\"},\n",
    "                      {\"role\": \"user\", \"content\": text}],\n",
    "            max_tokens=1500,\n",
    "            temperature=0.5\n",
    "        )\n",
    "\n",
    "        return chat_completion.choices[0].message.content\n",
    "    except Exception as e:\n",
    "        print(f\"Error calling GPT-4: {e}\")\n",
    "        return \"\""
   ]
  },
  {
   "cell_type": "code",
   "execution_count": 22,
   "id": "59246ca7-ef0d-4912-b6be-9c3d0d97d149",
   "metadata": {},
   "outputs": [
    {
     "data": {
      "text/markdown": [
       "### Claims\n",
       "\n",
       "1. **An assembly for processing articles**, comprising:\n",
       "   - a conveyor device configured to convey articles along a conveying line in a conveying direction;\n",
       "   - a plurality of receiving elements arranged on the conveyor device, adapted to hold the articles;\n",
       "   - at least one processing station arranged along the conveying line, comprising:\n",
       "     - at least one processing tool adapted to process the articles;\n",
       "     - a positioning unit configured to position the at least one processing tool, including:\n",
       "       - a longitudinal slide arranged on a carrier element, slidable in and contrary to the conveying direction;\n",
       "       - a transverse slide arranged on the longitudinal slide, slidable transverse to the conveying direction;\n",
       "       - a link guide configured to guide the transverse slide during a work cycle transverse to the conveying direction from a standby position towards the receiving elements into a working position and back to the standby position.\n",
       "\n",
       "2. **The assembly of claim 1**, wherein the link guide comprises:\n",
       "   - a work cycle guiding path and a return guiding path;\n",
       "   - the work cycle guiding path being configured to guide the transverse slide towards the receiving elements during the work cycle;\n",
       "   - the return guiding path being oriented parallel to the conveying line and configured to guide the transverse slide during a return cycle.\n",
       "\n",
       "3. **The assembly of claim 2**, wherein the work cycle guiding path includes a cam track configured to guide a guiding element of the transverse slide with minimal friction.\n",
       "\n",
       "4. **The assembly of claim 1**, further comprising:\n",
       "   - first and second pivotable guide elements arranged on the link guide to facilitate the transition of the guiding element between the return guiding path and the work cycle guiding path.\n",
       "\n",
       "5. **The assembly of claim 4**, wherein the first guide element includes a return guiding path blocking element configured to pivot out of the path plane during the return cycle to allow passage of the guiding element and to block the return guiding path during the work cycle.\n",
       "\n",
       "6. **The assembly of claim 1**, further comprising a drive mechanism configured to drive the longitudinal slide in an oscillating manner between a starting position and an end position in synchronization with the movement of the receiving elements.\n",
       "\n",
       "7. **The assembly of claim 1**, further comprising:\n",
       "   - a longitudinal slide spring unit configured to be spring-pretensioned between the longitudinal slide and the carrier element when a predefined return position of the longitudinal slide is reached during the return cycle.\n",
       "\n",
       "8. **The assembly of claim 1**, further comprising:\n",
       "   - a transverse slide spring unit configured to be spring-pretensioned between the transverse slide and the longitudinal slide when a predefined deflected position of the transverse slide is reached during the work cycle.\n",
       "\n",
       "9. **The assembly of claim 1**, adapted for removing the wishbone from poultry carcasses, comprising:\n",
       "   - the articles being poultry carcasses;\n",
       "   - the receiving elements adapted to hold the poultry carcasses with their neck side facing the processing station;\n",
       "   - the at least one processing tool being a wishbone removal unit.\n",
       "\n",
       "10. **The assembly of claim 9**, wherein the wishbone removal unit comprises:\n",
       "    - two outer separating elements and a double separating element arranged between the outer separating elements, each configured to move transversely towards the receiving elements to detach the wishbone from the poultry carcasses."
      ],
      "text/plain": [
       "<IPython.core.display.Markdown object>"
      ]
     },
     "metadata": {},
     "output_type": "display_data"
    }
   ],
   "source": [
    "mkd_claims =gpt4_query('List the claims in a patent format'+ one_patent)\n",
    "display(Markdown(mkd_claims))"
   ]
  },
  {
   "cell_type": "code",
   "execution_count": 26,
   "id": "a6c29a4f-6d31-44cd-8a6b-bc77255d2b47",
   "metadata": {},
   "outputs": [],
   "source": [
    "def gpt4_parser(text):\n",
    "    \"\"\"Uses OpenAI's GPT-4 Turbo 8k to process and summarize text.\"\"\"\n",
    "    try:\n",
    "        chat_completion = client.chat.completions.create(\n",
    "            model=\"gpt-4-turbo\",\n",
    "            messages=[{\"role\": \"system\", \"content\": \"You will work as a prolog parser generating prolog code\"},\n",
    "                      {\"role\": \"user\", \"content\": text}],\n",
    "            max_tokens=1500,\n",
    "            temperature=0.5\n",
    "        )\n",
    "\n",
    "        return chat_completion.choices[0].message.content\n",
    "    except Exception as e:\n",
    "        print(f\"Error calling GPT-4: {e}\")\n",
    "        return \"\""
   ]
  },
  {
   "cell_type": "code",
   "execution_count": 66,
   "id": "1b63ed78-5cf7-4d94-9d49-66885679407c",
   "metadata": {},
   "outputs": [
    {
     "name": "stdout",
     "output_type": "stream",
     "text": [
      "To convert the provided text into Prolog code, we need to interpret the claims and sub-claims about the golf glove into a logical format that Prolog can understand. Each claim will be transformed into a fact or a rule. Here, we can represent each glove with properties and relationships.\n",
      "\n",
      "**Text Input Breakdown:**\n",
      "1. Claim 1: A golf glove comprising at least an index finger receptacle.\n",
      "2. Claim 2: A golf glove in accordance with claim 1 wherein the glove is designed for the left hand.\n",
      "3. Claim 3: A glove comprising an index finger receptacle.\n",
      "4. Claim 4: A golf glove adapted for use on one hand of a human.\n",
      "\n",
      "**Prolog Code Representation:**\n",
      "\n",
      "First, we define basic facts for each claim:\n",
      "```prolog\n",
      "% Fact for each glove described in the claims\n",
      "golf_glove(glove1).\n",
      "golf_glove(glove2).\n",
      "golf_glove(glove3).\n",
      "golf_glove(glove4).\n",
      "\n",
      "% Describing the properties of each glove\n",
      "comprises(glove1, index_finger_receptacle).\n",
      "comprises(glove3, index_finger_receptacle).\n",
      "adapted_for(glove4, one_hand).\n",
      "\n",
      "% Specific adaptation for human use\n",
      "adapted_for_human(glove4).\n",
      "\n",
      "% Claim 2 specifies an additional detail about glove1 (from Claim 1)\n",
      "designed_for(glove2, left_hand).\n",
      "inherits_properties(glove2, glove1).\n",
      "```\n",
      "\n",
      "**Explanation:**\n",
      "- Each glove is represented as an entity (e.g., `glove1`, `glove2`).\n",
      "- Properties such as comprising an index finger receptacle or being adapted for use on one hand are described.\n",
      "- The `inherits_properties/2` predicate in Prolog is used to indicate that `glove2` inherits properties from `glove1`. This predicate isn't standard in Prolog but serves to illustrate the relationship between claims for clarity. In a practical application, you would manage this inheritance by querying `glove1` when information about `glove2` is requested but not explicitly defined for `glove2`.\n",
      "\n",
      "To use this Prolog database, you can query properties about the gloves, for example, to find out which gloves comprise an index finger receptacle, or which are designed for the left hand. This structure allows for expandability and modification as more claims or details are added.\n"
     ]
    }
   ],
   "source": [
    "prolog_result =gpt4_parser('Parse this text and convert it into prolog code'+ text_n_content)\n",
    "print(prolog_result)"
   ]
  },
  {
   "cell_type": "code",
   "execution_count": null,
   "id": "1918e253-8054-423a-b1eb-5a2857f99b15",
   "metadata": {},
   "outputs": [],
   "source": []
  }
 ],
 "metadata": {
  "kernelspec": {
   "display_name": "Python 3.9 (py39)",
   "language": "python",
   "name": "py39"
  },
  "language_info": {
   "codemirror_mode": {
    "name": "ipython",
    "version": 3
   },
   "file_extension": ".py",
   "mimetype": "text/x-python",
   "name": "python",
   "nbconvert_exporter": "python",
   "pygments_lexer": "ipython3",
   "version": "3.9.18"
  }
 },
 "nbformat": 4,
 "nbformat_minor": 5
}
